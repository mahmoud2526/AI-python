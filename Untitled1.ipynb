{
 "cells": [
  {
   "cell_type": "code",
   "execution_count": 6,
   "id": "c435eeec-2c14-4def-b645-d2edbb23765c",
   "metadata": {},
   "outputs": [
    {
     "name": "stdout",
     "output_type": "stream",
     "text": [
      "Requirement already satisfied: pandas in c:\\program files\\python38\\lib\\site-packages (2.0.3)\n",
      "Requirement already satisfied: python-dateutil>=2.8.2 in c:\\program files\\python38\\lib\\site-packages (from pandas) (2.8.2)\n",
      "Requirement already satisfied: pytz>=2020.1 in c:\\program files\\python38\\lib\\site-packages (from pandas) (2023.3.post1)\n",
      "Requirement already satisfied: tzdata>=2022.1 in c:\\program files\\python38\\lib\\site-packages (from pandas) (2023.3)\n",
      "Requirement already satisfied: numpy>=1.20.3 in c:\\program files\\python38\\lib\\site-packages (from pandas) (1.24.4)\n",
      "Requirement already satisfied: six>=1.5 in c:\\program files\\python38\\lib\\site-packages (from python-dateutil>=2.8.2->pandas) (1.16.0)\n"
     ]
    },
    {
     "name": "stderr",
     "output_type": "stream",
     "text": [
      "\n",
      "[notice] A new release of pip is available: 23.2.1 -> 23.3.1\n",
      "[notice] To update, run: python.exe -m pip install --upgrade pip\n"
     ]
    }
   ],
   "source": [
    "!pip install pandas"
   ]
  },
  {
   "cell_type": "code",
   "execution_count": 7,
   "id": "0d307b62-be81-493f-8598-850539c99923",
   "metadata": {},
   "outputs": [],
   "source": [
    "import pandas as pd"
   ]
  },
  {
   "cell_type": "code",
   "execution_count": 9,
   "id": "6dba8342-57c4-4b69-9700-6e63ebfc3d11",
   "metadata": {},
   "outputs": [
    {
     "name": "stdout",
     "output_type": "stream",
     "text": [
      "    ORDERNUMBER  QUANTITYORDERED     rest  ORDERLINENUMBER  valid  Rating   \\\n",
      "0         10107             30.0   95.70%                2      1        1   \n",
      "1         10121             34.0   81.35%                5      2        2   \n",
      "2         10134             41.0   94.74%                2      3        3   \n",
      "3         10145             45.0   83.26%                6      3        3   \n",
      "4         10159             49.0  100.00%               14      4        4   \n",
      "5         10168             36.0   96.66%                1      4        4   \n",
      "6         10180              NaN   86.13%                9      4        4   \n",
      "7         10188             48.0  100.00%                1      4        4   \n",
      "8         10201             22.0   98.57%                2      4        4   \n",
      "9         10211              NaN  100.00%               14      1        5   \n",
      "10        10223             37.0  100.00%                1      1        1   \n",
      "11        10237             23.0  100.00%                7      2        2   \n",
      "12        10251             28.0  100.00%                2      2        6   \n",
      "13        10263             34.0  100.00%                2      2        8   \n",
      "\n",
      "         order_date  \n",
      "0    2/24/2003 0:00  \n",
      "1     5/7/2022 0:00  \n",
      "2     7/1/2003 0:00  \n",
      "3    8/25/2003 0:00  \n",
      "4   10/10/2003 0:00  \n",
      "5   10/28/2003 0:00  \n",
      "6   11/11/2003 0:00  \n",
      "7   11/18/2003 0:00  \n",
      "8    12/1/2022 0:00  \n",
      "9    1/15/2004 0:00  \n",
      "10   2/20/2004 0:00  \n",
      "11    4/5/2022 0:00  \n",
      "12   5/18/2004 0:00  \n",
      "13   6/28/2004 0:00  \n"
     ]
    }
   ],
   "source": [
    "c=pd.read_csv(\"test.csv\")\n",
    "print(c)"
   ]
  },
  {
   "cell_type": "code",
   "execution_count": null,
   "id": "24c3d47b-72e1-4232-a325-ba51013c25e2",
   "metadata": {},
   "outputs": [],
   "source": []
  }
 ],
 "metadata": {
  "kernelspec": {
   "display_name": "Python 3 (ipykernel)",
   "language": "python",
   "name": "python3"
  },
  "language_info": {
   "codemirror_mode": {
    "name": "ipython",
    "version": 3
   },
   "file_extension": ".py",
   "mimetype": "text/x-python",
   "name": "python",
   "nbconvert_exporter": "python",
   "pygments_lexer": "ipython3",
   "version": "3.8.2"
  }
 },
 "nbformat": 4,
 "nbformat_minor": 5
}
